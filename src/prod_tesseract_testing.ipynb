{
 "cells": [
  {
   "cell_type": "code",
   "execution_count": 67,
   "metadata": {},
   "outputs": [],
   "source": [
    "from PIL import Image\n",
    "import pytesseract\n",
    "from dotenv import load_dotenv\n",
    "import os\n",
    "from mss import mss\n",
    "import numpy as np\n",
    "import cv2\n",
    "import pandas as pd"
   ]
  },
  {
   "cell_type": "code",
   "execution_count": 68,
   "metadata": {},
   "outputs": [],
   "source": [
    "# Get screenshot\n",
    "with mss() as sct:\n",
    "    screenshot = sct.grab(sct.monitors[1])\n",
    "    frame = np.array(screenshot)[:, :, :3]  # BGRA -> RGB\n",
    "    Image.fromarray(frame).save(\"../test.png\")"
   ]
  },
  {
   "cell_type": "code",
   "execution_count": 83,
   "metadata": {},
   "outputs": [],
   "source": [
    "def find_buttons(screenshot_array, template_path='../template/score_button.png'):\n",
    "   template = cv2.imread(template_path)\n",
    "   template_gray = cv2.cvtColor(template, cv2.COLOR_BGR2GRAY)\n",
    "   h, w = template_gray.shape\n",
    "   \n",
    "   screenshot_gray = cv2.cvtColor(screenshot_array, cv2.COLOR_BGR2GRAY)\n",
    "   result = cv2.matchTemplate(screenshot_gray, template_gray, cv2.TM_CCOEFF_NORMED)\n",
    "   \n",
    "   threshold = 0.8\n",
    "   locations = np.where(result >= threshold)\n",
    "   matches = list(zip(*locations[::-1]))\n",
    "   \n",
    "   button_locations = []\n",
    "   for pt in matches:\n",
    "       button_locations.append((pt[0] + w // 2, pt[1] + h // 2))\n",
    "       \n",
    "   return np.array(button_locations)"
   ]
  },
  {
   "cell_type": "code",
   "execution_count": 81,
   "metadata": {},
   "outputs": [],
   "source": [
    "from PIL import ImageDraw\n",
    "\n",
    "def visualize_matches(screenshot_array, button_locations):\n",
    "   # Convert numpy array to PIL Image\n",
    "   img = Image.fromarray(cv2.cvtColor(screenshot_array, cv2.COLOR_BGR2RGB))\n",
    "   draw = ImageDraw.Draw(img)\n",
    "   \n",
    "   # Draw red dots at button locations\n",
    "   dot_radius = 5\n",
    "   for x1, y1, x2, y2 in button_locations:\n",
    "       center_x = (x1 + x2) // 2\n",
    "       center_y = (y1 + y2) // 2\n",
    "       draw.ellipse([center_x - dot_radius, center_y - dot_radius, \n",
    "                    center_x + dot_radius, center_y + dot_radius], \n",
    "                    fill='red')\n",
    "   \n",
    "   return img"
   ]
  },
  {
   "cell_type": "code",
   "execution_count": null,
   "metadata": {},
   "outputs": [
    {
     "data": {
      "text/plain": [
       "array([[1814,  227],\n",
       "       [1814,  282],\n",
       "       [1814,  337],\n",
       "       [1814,  392],\n",
       "       [1814,  447],\n",
       "       [1814,  502],\n",
       "       [1814,  557],\n",
       "       [1814,  612],\n",
       "       [1814,  667],\n",
       "       [1814,  722],\n",
       "       [1814,  777],\n",
       "       [1814,  832],\n",
       "       [1814,  887],\n",
       "       [1814,  942],\n",
       "       [1814,  997]])"
      ]
     },
     "execution_count": 84,
     "metadata": {},
     "output_type": "execute_result"
    }
   ],
   "source": [
    "find_buttons(frame)"
   ]
  }
 ],
 "metadata": {
  "kernelspec": {
   "display_name": "res-review",
   "language": "python",
   "name": "python3"
  },
  "language_info": {
   "codemirror_mode": {
    "name": "ipython",
    "version": 3
   },
   "file_extension": ".py",
   "mimetype": "text/x-python",
   "name": "python",
   "nbconvert_exporter": "python",
   "pygments_lexer": "ipython3",
   "version": "3.13.1"
  }
 },
 "nbformat": 4,
 "nbformat_minor": 2
}
